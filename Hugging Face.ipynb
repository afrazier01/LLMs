{
 "cells": [
  {
   "cell_type": "markdown",
   "id": "0a8b67b9-9626-4dcc-87e1-d5dfc43b21ea",
   "metadata": {},
   "source": [
    "# Hugging Face"
   ]
  },
  {
   "cell_type": "markdown",
   "id": "9542a8cb-2e90-4722-b9be-353d0d1108dd",
   "metadata": {},
   "source": [
    "by: Aveontae Frazier"
   ]
  },
  {
   "cell_type": "markdown",
   "id": "4b380263-7b87-4b2b-926b-0be367ef6ed5",
   "metadata": {},
   "source": [
    "### What is Hugging Face?\n",
    "\n",
    "A major hub for open-source machine learning (ML)! \n",
    "\n",
    "Three major offerings: \n",
    "1) Models\n",
    "2) Datasets \n",
    "3) Spaces\n",
    "\n",
    "#### Transformers\n",
    "\n",
    "A Python library that makes the ML training and implementation process simple.\n",
    "\n",
    "Installation: https://huggingface.co/docs/transformers/installation"
   ]
  },
  {
   "cell_type": "markdown",
   "id": "1322eb07-dc1c-4e7e-91da-62c004eab983",
   "metadata": {},
   "source": [
    "## Sentiment Analysis Example"
   ]
  },
  {
   "cell_type": "code",
   "execution_count": 3,
   "id": "46ab0cb2-e1ba-4123-a5ce-fb6aa1a7c6a1",
   "metadata": {
    "tags": []
   },
   "outputs": [],
   "source": [
    "# Import mods\n",
    "from transformers import pipeline, Conversation"
   ]
  },
  {
   "cell_type": "code",
   "execution_count": 7,
   "id": "7ef710cb-4f2d-4413-a710-0456056021f0",
   "metadata": {
    "tags": []
   },
   "outputs": [
    {
     "name": "stderr",
     "output_type": "stream",
     "text": [
      "No model was supplied, defaulted to distilbert-base-uncased-finetuned-sst-2-english and revision af0f99b (https://huggingface.co/distilbert-base-uncased-finetuned-sst-2-english).\n",
      "Using a pipeline without specifying a model name and revision in production is not recommended.\n"
     ]
    },
    {
     "data": {
      "text/plain": [
       "[{'label': 'POSITIVE', 'score': 0.9998745918273926}]"
      ]
     },
     "execution_count": 7,
     "metadata": {},
     "output_type": "execute_result"
    }
   ],
   "source": [
    "pipeline(task=\"sentiment-analysis\")(\"Love this!\") # really simply application, no model specified"
   ]
  },
  {
   "cell_type": "markdown",
   "id": "ca5d41e8-0d5a-43b4-8690-db221551c8bd",
   "metadata": {},
   "source": [
    "## Pipelines are able to handle: \n",
    "\n",
    "*Summarization*, *Translation*, *Question-Answering*, *Feature-Extraction (I.e. Text embedding)*, *Text generation*, *and more!*\n",
    "\n",
    "Pipeline() Docs: https://huggingface.co/docs/transformers/main_classes/pipelines#transformers.pipeline.task"
   ]
  },
  {
   "cell_type": "code",
   "execution_count": 9,
   "id": "8419627a-c957-4778-bcf2-e529c0887986",
   "metadata": {
    "tags": []
   },
   "outputs": [
    {
     "data": {
      "text/plain": [
       "[{'label': 'POSITIVE', 'score': 0.9998745918273926}]"
      ]
     },
     "execution_count": 9,
     "metadata": {},
     "output_type": "execute_result"
    }
   ],
   "source": [
    "# Specify a Model for the Pipeline task\n",
    "pipeline(task=\"sentiment-analysis\",\n",
    "        model=\"distilbert-base-uncased-finetuned-sst-2-english\")(\"Love this!\") # default distilbert model for sentiment analysis"
   ]
  },
  {
   "cell_type": "markdown",
   "id": "9e6fa4af-8958-4943-91cd-8d5b47507b19",
   "metadata": {},
   "source": [
    "#### What makes transformers power is `the simple fact that we can easily implement any one of the thousands of open source models available in the Hugging Face Models!`\n",
    "\n",
    "**Below is a link to the growing repository of pre-trained open-source ML models for many task!**\n",
    "\n",
    "*Hugging Face Open-Souce Models: https://huggingface.co/models*"
   ]
  },
  {
   "cell_type": "code",
   "execution_count": 16,
   "id": "5ef2cba2-688a-4c08-8364-00c381c0d51d",
   "metadata": {
    "tags": []
   },
   "outputs": [
    {
     "data": {
      "text/plain": [
       "[{'label': 'joy', 'score': 0.9533290266990662}]"
      ]
     },
     "execution_count": 16,
     "metadata": {},
     "output_type": "execute_result"
    }
   ],
   "source": [
    "pipeline(task=\"sentiment-analysis\",\n",
    "        model=\"michellejieli/emotion_text_classifier\")(\"Love this!\") # Another trending model on Hugging Face"
   ]
  },
  {
   "cell_type": "code",
   "execution_count": 18,
   "id": "044a132c-a67b-4c6c-a8a5-a374d21c717a",
   "metadata": {
    "tags": []
   },
   "outputs": [],
   "source": [
    "# Defining a classifier\n",
    "classifier=pipeline(task=\"sentiment-analysis\", model=\"distilbert-base-uncased-finetuned-sst-2-english\")"
   ]
  },
  {
   "cell_type": "code",
   "execution_count": 20,
   "id": "32793922-6225-4be7-acbd-115282cabd1d",
   "metadata": {
    "tags": []
   },
   "outputs": [
    {
     "data": {
      "text/plain": [
       "[{'label': 'NEGATIVE', 'score': 0.9995765089988708}]"
      ]
     },
     "execution_count": 20,
     "metadata": {},
     "output_type": "execute_result"
    }
   ],
   "source": [
    "classifier(\"I hate this!\")"
   ]
  },
  {
   "cell_type": "markdown",
   "id": "58f6d401-2dd7-4ab6-92c5-922799451fe2",
   "metadata": {},
   "source": [
    "### Batch Predictions"
   ]
  },
  {
   "cell_type": "code",
   "execution_count": 23,
   "id": "dfc7bc39-7016-4b42-aced-7f42ac51ff88",
   "metadata": {
    "tags": []
   },
   "outputs": [
    {
     "data": {
      "text/plain": [
       "[{'label': 'POSITIVE', 'score': 0.9998785257339478},\n",
       " {'label': 'POSITIVE', 'score': 0.9973287582397461},\n",
       " {'label': 'POSITIVE', 'score': 0.9680058360099792},\n",
       " {'label': 'NEGATIVE', 'score': 0.9567683339118958},\n",
       " {'label': 'POSITIVE', 'score': 0.9998712539672852}]"
      ]
     },
     "execution_count": 23,
     "metadata": {},
     "output_type": "execute_result"
    }
   ],
   "source": [
    "batch_list=[\"this is great\", \\\n",
    "     \"that is it for now!\", \\\n",
    "     \"thanks for nothing\", \\\n",
    "     \"I spilled my coffee!\", \\\n",
    "     \"you are great the way you are, why change?\"]\n",
    "\n",
    "classifier(batch_list) # pass the list to the classifier"
   ]
  },
  {
   "cell_type": "markdown",
   "id": "4f2b5789-beb1-4459-b0be-0b690383c079",
   "metadata": {},
   "source": [
    "### Multiple Targets"
   ]
  },
  {
   "cell_type": "code",
   "execution_count": 26,
   "id": "6beca1ab-bd86-4094-be9d-307318ffd6c2",
   "metadata": {
    "tags": []
   },
   "outputs": [],
   "source": [
    "classifier=pipeline(task=\"sentiment-analysis\", \n",
    "                    model=\"SamLowe/roberta-base-go_emotions\",\n",
    "                    top_k=None)"
   ]
  },
  {
   "cell_type": "code",
   "execution_count": 27,
   "id": "35f3c76d-3bc2-43f6-b448-498da823ed0a",
   "metadata": {
    "tags": []
   },
   "outputs": [
    {
     "data": {
      "text/plain": [
       "[[{'label': 'admiration', 'score': 0.9523261785507202},\n",
       "  {'label': 'approval', 'score': 0.03107648715376854},\n",
       "  {'label': 'neutral', 'score': 0.015463285148143768},\n",
       "  {'label': 'excitement', 'score': 0.005772939883172512},\n",
       "  {'label': 'gratitude', 'score': 0.0054391901940107346},\n",
       "  {'label': 'curiosity', 'score': 0.004312193486839533},\n",
       "  {'label': 'joy', 'score': 0.0042666420340538025},\n",
       "  {'label': 'disapproval', 'score': 0.004173447843641043},\n",
       "  {'label': 'optimism', 'score': 0.0041002132929861546},\n",
       "  {'label': 'realization', 'score': 0.00409337691962719},\n",
       "  {'label': 'annoyance', 'score': 0.0035506037529557943},\n",
       "  {'label': 'surprise', 'score': 0.0028309354092925787},\n",
       "  {'label': 'disappointment', 'score': 0.0027473466470837593},\n",
       "  {'label': 'love', 'score': 0.0026830036658793688},\n",
       "  {'label': 'amusement', 'score': 0.002467394806444645},\n",
       "  {'label': 'confusion', 'score': 0.0024103664327412844},\n",
       "  {'label': 'pride', 'score': 0.0020465166307985783},\n",
       "  {'label': 'sadness', 'score': 0.0017645545303821564},\n",
       "  {'label': 'anger', 'score': 0.0017049675807356834},\n",
       "  {'label': 'caring', 'score': 0.0013665207661688328},\n",
       "  {'label': 'desire', 'score': 0.0010408563539385796},\n",
       "  {'label': 'disgust', 'score': 0.0009754646453075111},\n",
       "  {'label': 'fear', 'score': 0.0005227759247645736},\n",
       "  {'label': 'relief', 'score': 0.0004747535567730665},\n",
       "  {'label': 'embarrassment', 'score': 0.00034031382529065013},\n",
       "  {'label': 'grief', 'score': 0.00033220971818082035},\n",
       "  {'label': 'remorse', 'score': 0.00028043572092428803},\n",
       "  {'label': 'nervousness', 'score': 0.0002044864377239719}]]"
      ]
     },
     "execution_count": 27,
     "metadata": {},
     "output_type": "execute_result"
    }
   ],
   "source": [
    "classifier(batch_list[0]) # applied to first element of list"
   ]
  },
  {
   "cell_type": "code",
   "execution_count": 30,
   "id": "2e196674-9338-49c6-9a9f-f7a9db05cb0b",
   "metadata": {
    "tags": []
   },
   "outputs": [
    {
     "data": {
      "text/plain": [
       "[[{'label': 'neutral', 'score': 0.9341973066329956},\n",
       "  {'label': 'approval', 'score': 0.021860238164663315},\n",
       "  {'label': 'annoyance', 'score': 0.012884113937616348},\n",
       "  {'label': 'realization', 'score': 0.012337401509284973},\n",
       "  {'label': 'disgust', 'score': 0.0045599909499287605},\n",
       "  {'label': 'amusement', 'score': 0.0033169311936944723},\n",
       "  {'label': 'sadness', 'score': 0.003295227652415633},\n",
       "  {'label': 'anger', 'score': 0.0029102263506501913},\n",
       "  {'label': 'disappointment', 'score': 0.0028773448430001736},\n",
       "  {'label': 'optimism', 'score': 0.002037769416347146},\n",
       "  {'label': 'confusion', 'score': 0.001899832976050675},\n",
       "  {'label': 'disapproval', 'score': 0.0018558281008154154},\n",
       "  {'label': 'embarrassment', 'score': 0.0017885810229927301},\n",
       "  {'label': 'fear', 'score': 0.001707057817839086},\n",
       "  {'label': 'curiosity', 'score': 0.0015119265299290419},\n",
       "  {'label': 'excitement', 'score': 0.0014253061963245273},\n",
       "  {'label': 'joy', 'score': 0.0013963377568870783},\n",
       "  {'label': 'caring', 'score': 0.0013305209577083588},\n",
       "  {'label': 'admiration', 'score': 0.0011170756770297885},\n",
       "  {'label': 'desire', 'score': 0.001114956452511251},\n",
       "  {'label': 'love', 'score': 0.0009400633862242103},\n",
       "  {'label': 'surprise', 'score': 0.0008185285842046142},\n",
       "  {'label': 'remorse', 'score': 0.0007581355748698115},\n",
       "  {'label': 'gratitude', 'score': 0.0006764166173525155},\n",
       "  {'label': 'grief', 'score': 0.0005171243683435023},\n",
       "  {'label': 'nervousness', 'score': 0.0005079596303403378},\n",
       "  {'label': 'relief', 'score': 0.0004735048278234899},\n",
       "  {'label': 'pride', 'score': 0.0003606230311561376}]]"
      ]
     },
     "execution_count": 30,
     "metadata": {},
     "output_type": "execute_result"
    }
   ],
   "source": [
    "classifier(batch_list[3]) "
   ]
  },
  {
   "cell_type": "markdown",
   "id": "65eacf7b-6798-470c-a627-a01f8ff8aded",
   "metadata": {},
   "source": [
    "### Summarization"
   ]
  },
  {
   "cell_type": "code",
   "execution_count": 33,
   "id": "14295bd4-e721-4ec7-829b-b26d7fef5fd5",
   "metadata": {
    "tags": []
   },
   "outputs": [],
   "source": [
    "# Define summarizer\n",
    "summarizer=pipeline(task=\"summarization\", model=\"facebook/bart-large-cnn\")"
   ]
  },
  {
   "cell_type": "code",
   "execution_count": 34,
   "id": "af029630-6331-4d4c-bbb4-323977556abc",
   "metadata": {
    "tags": []
   },
   "outputs": [
    {
     "data": {
      "text/plain": [
       "'The American Statistical Association (ASA) must become more ubiquitous in statistics. The ASA must permeate every industry and profession where a statistical practitioner works to inform as many people as possible about the Ethical Guidelines. This would require the ASA to also review the guidelines annually to ensure they remain adequate. The only burden would be a quick annual review of the guidelines and certification of conformity.'"
      ]
     },
     "execution_count": 34,
     "metadata": {},
     "output_type": "execute_result"
    }
   ],
   "source": [
    "# My reflection from a data ethics course\n",
    "text = \"\"\"\n",
    "One way to institutionalize the Communality Value might be to mandate an annual certification of univerisal Ethical Guidelines. \n",
    "Given the American Statistical Association’s (ASA) focus on the individual, this could help address the ethical lapses \n",
    "within the statistical community as a whole. However, for this to succeed, the ASA would need to become more ubiquitous in \n",
    "statistics. The ASA must permeate every industry and profession where a statistical practitioner works to inform as \n",
    "many people as possible about the Ethical Guidelines. Only then could a mandate like the annual certification of the \n",
    "guidelines work to change the ethical landscape of statistics. Additionally, this solution wouldn’t impose a compliance \n",
    "burden on any one organization, making it more adoptable and even preferred from a hiring standpoint. The only burden \n",
    "would be a quick annual review of the guidelines and certification of conformity, which could take just an hour or two a\n",
    "year. This would require the ASA to also review the guidelines annually to ensure they remain adequate.\n",
    "\"\"\"\n",
    "\n",
    "summarizied_text=summarizer(text, min_length=75, max_length=100)[0][\"summary_text\"]\n",
    "\n",
    "summarizied_text # Pretty good!"
   ]
  },
  {
   "cell_type": "code",
   "execution_count": 35,
   "id": "08622da5-7a3b-4166-81e9-b3ce28b67c73",
   "metadata": {
    "tags": []
   },
   "outputs": [
    {
     "data": {
      "text/plain": [
       "[[{'label': 'neutral', 'score': 0.8097553849220276},\n",
       "  {'label': 'approval', 'score': 0.1958303451538086},\n",
       "  {'label': 'optimism', 'score': 0.03372952714562416},\n",
       "  {'label': 'realization', 'score': 0.027438772842288017},\n",
       "  {'label': 'desire', 'score': 0.014154449105262756},\n",
       "  {'label': 'annoyance', 'score': 0.009135137312114239},\n",
       "  {'label': 'admiration', 'score': 0.009024866856634617},\n",
       "  {'label': 'disapproval', 'score': 0.0054798307828605175},\n",
       "  {'label': 'caring', 'score': 0.005192108917981386},\n",
       "  {'label': 'disappointment', 'score': 0.00373662356287241},\n",
       "  {'label': 'gratitude', 'score': 0.001778473611921072},\n",
       "  {'label': 'excitement', 'score': 0.0015567636583000422},\n",
       "  {'label': 'confusion', 'score': 0.001510564354248345},\n",
       "  {'label': 'disgust', 'score': 0.001298467512242496},\n",
       "  {'label': 'relief', 'score': 0.001092472462914884},\n",
       "  {'label': 'curiosity', 'score': 0.0010280683636665344},\n",
       "  {'label': 'pride', 'score': 0.0009520385065115988},\n",
       "  {'label': 'anger', 'score': 0.0008596153347752988},\n",
       "  {'label': 'sadness', 'score': 0.0008071570773608983},\n",
       "  {'label': 'joy', 'score': 0.0007114913314580917},\n",
       "  {'label': 'love', 'score': 0.0006739062955603004},\n",
       "  {'label': 'fear', 'score': 0.0006313195917755365},\n",
       "  {'label': 'amusement', 'score': 0.0006213928572833538},\n",
       "  {'label': 'surprise', 'score': 0.0004139118827879429},\n",
       "  {'label': 'remorse', 'score': 0.00041138744563795626},\n",
       "  {'label': 'nervousness', 'score': 0.0003815835516434163},\n",
       "  {'label': 'embarrassment', 'score': 0.00032986298901960254},\n",
       "  {'label': 'grief', 'score': 0.0002292344142915681}]]"
      ]
     },
     "execution_count": 35,
     "metadata": {},
     "output_type": "execute_result"
    }
   ],
   "source": [
    "classifier(summarizied_text) # Using the previous sentiment analysis classifier"
   ]
  },
  {
   "cell_type": "markdown",
   "id": "16f8a300-48b0-4c00-bee6-3ef083ac0181",
   "metadata": {},
   "source": [
    "### Conversational"
   ]
  },
  {
   "cell_type": "code",
   "execution_count": 40,
   "id": "5ce59295-daf6-448c-b8c2-69e35cb683e0",
   "metadata": {
    "tags": []
   },
   "outputs": [],
   "source": [
    "# Chatbot object\n",
    "chatbot=pipeline(\"conversational\", model=\"facebook/blenderbot-400M-distill\")"
   ]
  },
  {
   "cell_type": "code",
   "execution_count": 42,
   "id": "4379805b-38d2-405a-b1c1-62df16ee61a0",
   "metadata": {
    "tags": []
   },
   "outputs": [],
   "source": [
    "# Conversation object to handle back and forth between user and bot\n",
    "conversation=Conversation(\"Hi, I'm Tae, how are you?\")\n",
    "\n",
    "conversation=chatbot(conversation)"
   ]
  },
  {
   "cell_type": "code",
   "execution_count": 44,
   "id": "c9d22d56-c857-48ea-89a5-8866c4851623",
   "metadata": {
    "tags": []
   },
   "outputs": [
    {
     "data": {
      "text/plain": [
       "Conversation id: c7fc90bd-38b8-4001-bc65-da7c1af5d041 \n",
       "user >> Hi, I'm Tae, how are you? \n",
       "bot >>  I'm doing well. How are you doing today? I'm just hanging out with my cat. "
      ]
     },
     "execution_count": 44,
     "metadata": {},
     "output_type": "execute_result"
    }
   ],
   "source": [
    "conversation"
   ]
  },
  {
   "cell_type": "code",
   "execution_count": 46,
   "id": "3eb59671-2e2a-4d49-961e-4277b04af2fc",
   "metadata": {
    "tags": []
   },
   "outputs": [],
   "source": [
    "# Keep the conversation going\n",
    "conversation.add_user_input(\"How many cats do you have?\")\n",
    "conversation=chatbot(conversation)"
   ]
  },
  {
   "cell_type": "code",
   "execution_count": 48,
   "id": "2834b63b-c583-4e13-bf54-77ff259234b3",
   "metadata": {
    "tags": []
   },
   "outputs": [
    {
     "data": {
      "text/plain": [
       "Conversation id: c7fc90bd-38b8-4001-bc65-da7c1af5d041 \n",
       "user >> Hi, I'm Tae, how are you? \n",
       "bot >>  I'm doing well. How are you doing today? I'm just hanging out with my cat. \n",
       "user >> How many cats do you have? \n",
       "bot >>  I have two. They're my babies. What do you like to do in your spare time? "
      ]
     },
     "execution_count": 48,
     "metadata": {},
     "output_type": "execute_result"
    }
   ],
   "source": [
    "conversation"
   ]
  },
  {
   "cell_type": "markdown",
   "id": "39ae050c-72f9-44dc-ae19-850a2265354f",
   "metadata": {
    "tags": []
   },
   "source": [
    "### Chatbot UI with Gradio"
   ]
  },
  {
   "cell_type": "code",
   "execution_count": 53,
   "id": "e7e35b1a-147d-4795-bd16-0ea7e8dc2102",
   "metadata": {
    "tags": []
   },
   "outputs": [
    {
     "name": "stdout",
     "output_type": "stream",
     "text": [
      "Running on local URL:  http://127.0.0.1:7860\n",
      "\n",
      "To create a public link, set `share=True` in `launch()`.\n"
     ]
    },
    {
     "data": {
      "text/html": [
       "<div><iframe src=\"http://127.0.0.1:7860/\" width=\"100%\" height=\"500\" allow=\"autoplay; camera; microphone; clipboard-read; clipboard-write;\" frameborder=\"0\" allowfullscreen></iframe></div>"
      ],
      "text/plain": [
       "<IPython.core.display.HTML object>"
      ]
     },
     "metadata": {},
     "output_type": "display_data"
    },
    {
     "data": {
      "text/plain": []
     },
     "execution_count": 53,
     "metadata": {},
     "output_type": "execute_result"
    }
   ],
   "source": [
    "import gradio\n",
    "\n",
    "message_list=[]\n",
    "response_list=[]\n",
    "\n",
    "def simply_chatbot(message, history):\n",
    "    conversation=Conversation(text=message, # User inputs\n",
    "                              past_user_inputs=message_list, # Context so the chatbot understands the conversation before responding\n",
    "                              generated_responses=response_list)\n",
    "    conversation=chatbot(conversation)\n",
    "    \n",
    "    return conversation.generated_responses[-1] #return the last generated response\n",
    "\n",
    "demo_chatbot=gradio.ChatInterface(simply_chatbot, # pass chatbot object\n",
    "                                  title=\"Simply-Chatbot\",\n",
    "                                  description=\"Enter text to begin chatting!\")\n",
    "\n",
    "demo_chatbot.launch()"
   ]
  },
  {
   "cell_type": "markdown",
   "id": "06c497f6-200b-4fd2-9d8b-6c90be9306b6",
   "metadata": {},
   "source": [
    "### Hosted on Hugging Face Spaces :)"
   ]
  },
  {
   "cell_type": "markdown",
   "id": "29ec497a-720d-4cec-8c51-907318ed5c8f",
   "metadata": {},
   "source": [
    "https://huggingface.co/spaces/amfrazier01/simply-chatbot"
   ]
  }
 ],
 "metadata": {
  "kernelspec": {
   "display_name": "Python 3 (ipykernel)",
   "language": "python",
   "name": "python3"
  },
  "language_info": {
   "codemirror_mode": {
    "name": "ipython",
    "version": 3
   },
   "file_extension": ".py",
   "mimetype": "text/x-python",
   "name": "python",
   "nbconvert_exporter": "python",
   "pygments_lexer": "ipython3",
   "version": "3.11.5"
  }
 },
 "nbformat": 4,
 "nbformat_minor": 5
}
