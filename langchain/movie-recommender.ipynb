{
 "cells": [
  {
   "cell_type": "markdown",
   "id": "f8acbdcb-072b-4cee-80d6-adbc268e1736",
   "metadata": {},
   "source": [
    "# Movie Recommender with LangChain"
   ]
  },
  {
   "cell_type": "raw",
   "id": "0f592bf7-d57e-4937-97a7-978dcb3e4703",
   "metadata": {
    "tags": []
   },
   "source": [
    "By: Aveontae Frazier"
   ]
  },
  {
   "cell_type": "code",
   "execution_count": 1,
   "id": "f448d971-13fa-4253-9b02-e454c402c8e3",
   "metadata": {
    "tags": []
   },
   "outputs": [],
   "source": [
    "# Import libs\n",
    "from langchain_openai import ChatOpenAI\n",
    "from langchain.prompts import PromptTemplate\n",
    "from langchain.chains import LLMChain\n",
    "from langchain.schema import BaseOutputParser\n",
    "\n",
    "# sk\n",
    "from sk import my_sk"
   ]
  },
  {
   "cell_type": "markdown",
   "id": "6902a6c4-d90f-4b88-ab24-a06661acfb38",
   "metadata": {
    "tags": []
   },
   "source": [
    "## Define Chain"
   ]
  },
  {
   "cell_type": "code",
   "execution_count": 4,
   "id": "5776be4c-d0c8-457f-9e9f-7d970ef171b8",
   "metadata": {
    "tags": []
   },
   "outputs": [],
   "source": [
    "# Define chatbot\n",
    "model = ChatOpenAI(openai_api_key=my_sk, # my secret key\n",
    "                  model=\"gpt-4-turbo\", # best model for task\n",
    "                  temperature=0)"
   ]
  },
  {
   "cell_type": "code",
   "execution_count": 6,
   "id": "005aed0a-7736-4c87-bf08-48e49f02f2da",
   "metadata": {
    "tags": []
   },
   "outputs": [],
   "source": [
    "# Define Prompt Template\n",
    "prompt_template = \"\"\"\n",
    "You are an expert movie reviewer with a vast knowledge of movies across all genres and time periods.\n",
    "Your task is to recommend three movies that align with the user's interests. These interests are\n",
    "specified by:\n",
    "- **Genre of Interest (G):** A genre they enjoy.\n",
    "- **Movie of Interest (M):** A specific movie they like within that genre.\n",
    "- **Age (A):** A classifier for new versus older films.\n",
    "\n",
    "Use the information provided to recommend movies that align with their preferences. Recommendations\n",
    "should vary slightly in style, tone, or subgenres within the specified genre. Justify your recommendations\n",
    "based on similarities to the given movie or genre, or based on unique elements of the recommendation\n",
    "that align with the user’s preferences.\n",
    "\n",
    "**Input:**\n",
    "**G:** {genre}\n",
    "**M:** {favorite_movie_in_genre}\n",
    "**A:** {age}\n",
    "\n",
    "**Output:**\n",
    "Based on user preferences, the output should be simple and concise:\n",
    "\n",
    "Title: [title]\n",
    "Reason: [Max 100 tokens]\n",
    "Trailer Link: [link]\n",
    "\n",
    "ENSURE THAT THREE RECOMMENDATIONS ARE INCLUDED\n",
    "\"\"\"\n",
    "\n",
    "prompt = PromptTemplate(\n",
    "    input_variables=[\"genre\", \"favorite_movie_in_genre\", \"age\"],\n",
    "    template=prompt_template\n",
    ")"
   ]
  },
  {
   "cell_type": "code",
   "execution_count": 8,
   "id": "90a49525-3575-46e4-b727-d52edfe73e21",
   "metadata": {
    "tags": []
   },
   "outputs": [],
   "source": [
    "# Define Chain\n",
    "chain = prompt | model\n",
    "\n",
    "\n",
    "# LangChain allows chaining operations using the pipeline (|) operator.\n",
    "# `prompt | model` creates a sequence where the prompt is executed, and its output is passed to the model.\n",
    "# So, no nee to explicit have LLMChain. The new approach simplifies chaining operations and avoids the need for LLMChain."
   ]
  },
  {
   "cell_type": "markdown",
   "id": "db78749a-0b1d-41d2-924f-eb58fa82ec86",
   "metadata": {},
   "source": [
    "## Use Chain"
   ]
  },
  {
   "cell_type": "code",
   "execution_count": 11,
   "id": "d1cd6763-d8ef-4664-bb8d-94bb77d609c7",
   "metadata": {
    "tags": []
   },
   "outputs": [],
   "source": [
    " # Define Inputs\n",
    "genre = \"action/drama\"\n",
    "favorite_movie_in_genre = \"interstellar\"\n",
    "age = \"new\"\n",
    "\n",
    "# run chain\n",
    "output = chain.invoke({'genre': genre, 'favorite_movie_in_genre': favorite_movie_in_genre, 'age': age})\n",
    "\n",
    "output_content = output.content"
   ]
  },
  {
   "cell_type": "code",
   "execution_count": 15,
   "id": "7e9b5090-aa70-4c37-800e-e23e2a7830ac",
   "metadata": {
    "tags": []
   },
   "outputs": [
    {
     "data": {
      "text/plain": [
       "\"Title: Inception\\nReason: Directed by Christopher Nolan, like Interstellar, Inception offers a complex narrative blending action with deep psychological and philosophical themes. Its innovative storytelling and visual effects make it a compelling watch for fans of intellectually stimulating cinema.\\nTrailer Link: [https://www.youtube.com/watch?v=YoHD9XEInc0](https://www.youtube.com/watch?v=YoHD9XEInc0)\\n\\nTitle: Arrival\\nReason: Arrival, a film directed by Denis Villeneuve, explores themes of communication and time, similar to Interstellar's exploration of space and time. It combines drama and sci-fi elements with a strong emotional core, making it a thought-provoking experience.\\nTrailer Link: [https://www.youtube.com/watch?v=tFMo3UJ4B4g](https://www.youtube.com/watch?v=tFMo3UJ4B4g)\\n\\nTitle: Gravity\\nReason: Gravity is a visually stunning film that delves into the themes of survival and resilience in space, akin to Interstellar. Directed by Alfonso Cuarón, it offers breathtaking visuals and a gripping storyline, focusing on a more personal survival story.\\nTrailer Link: [https://www.youtube.com/watch?v=OiTiKOy59o4](https://www.youtube.com/watch?v=OiTiKOy59o4)\""
      ]
     },
     "execution_count": 15,
     "metadata": {},
     "output_type": "execute_result"
    }
   ],
   "source": [
    "output_content"
   ]
  },
  {
   "cell_type": "code",
   "execution_count": 17,
   "id": "f2d01301-deb7-4e7c-888b-d28179ba35ba",
   "metadata": {
    "tags": []
   },
   "outputs": [
    {
     "name": "stdout",
     "output_type": "stream",
     "text": [
      "Title: Inception\n",
      "Reason: Directed by Christopher Nolan, like Interstellar, Inception offers a complex narrative blending action with deep psychological and philosophical themes. Its innovative storytelling and visual effects make it a compelling watch for fans of intellectually stimulating cinema.\n",
      "Trailer Link: [https://www.youtube.com/watch?v=YoHD9XEInc0](https://www.youtube.com/watch?v=YoHD9XEInc0)\n",
      "\n",
      "Title: Arrival\n",
      "Reason: Arrival, a film directed by Denis Villeneuve, explores themes of communication and time, similar to Interstellar's exploration of space and time. It combines drama and sci-fi elements with a strong emotional core, making it a thought-provoking experience.\n",
      "Trailer Link: [https://www.youtube.com/watch?v=tFMo3UJ4B4g](https://www.youtube.com/watch?v=tFMo3UJ4B4g)\n",
      "\n",
      "Title: Gravity\n",
      "Reason: Gravity is a visually stunning film that delves into the themes of survival and resilience in space, akin to Interstellar. Directed by Alfonso Cuarón, it offers breathtaking visuals and a gripping storyline, focusing on a more personal survival story.\n",
      "Trailer Link: [https://www.youtube.com/watch?v=OiTiKOy59o4](https://www.youtube.com/watch?v=OiTiKOy59o4)\n"
     ]
    }
   ],
   "source": [
    "print(output_content)"
   ]
  },
  {
   "cell_type": "markdown",
   "id": "e05e0a23-dcca-4e69-bebe-2d2c9bcdfd20",
   "metadata": {},
   "source": [
    "## Adding an Output Parser"
   ]
  },
  {
   "cell_type": "code",
   "execution_count": 19,
   "id": "d30625aa-1b72-4975-906a-19e1d2795b08",
   "metadata": {
    "tags": []
   },
   "outputs": [],
   "source": [
    "import re\n",
    "\n",
    "# Define output parser\n",
    "def parse_movie_output(output_content):\n",
    "    # regex to capture each title, reason, and trailer link\n",
    "    pattern = r\"\\*?\\*?Title:\\*?\\*? (.+?)\\n\\*?\\*?Reason:\\*?\\*? (.+?)\\n\\*?\\*?Trailer Link:\\*?\\*? \\[(https?://[^\\]]+)\\]\"\n",
    "    \n",
    "    # Use re.findall to find all matches in the output content\n",
    "    movies = re.findall(pattern, \n",
    "                        output_content)\n",
    "    \n",
    "    # Convert the list of tuples into a list of dictionaries\n",
    "    parsed_movies = [{\"title\": movie[0], \"reason\": movie[1], \"trailer_link\": movie[2]} for movie in movies]\n",
    "    \n",
    "    return parsed_movies"
   ]
  },
  {
   "cell_type": "code",
   "execution_count": 21,
   "id": "0dd79b62-4349-4a45-80c5-58b477c4725d",
   "metadata": {
    "tags": []
   },
   "outputs": [
    {
     "name": "stdout",
     "output_type": "stream",
     "text": [
      "Title: Inception\n",
      "Reason: Directed by Christopher Nolan, like Interstellar, Inception offers a complex narrative blending action with deep psychological and philosophical themes. Its innovative storytelling and visual effects make it a compelling watch for fans of intellectually stimulating cinema.\n",
      "Trailer Link: https://www.youtube.com/watch?v=YoHD9XEInc0\n",
      "\n",
      "Title: Arrival\n",
      "Reason: Arrival, a film directed by Denis Villeneuve, explores themes of communication and time, similar to Interstellar's exploration of space and time. It combines drama and sci-fi elements with a strong emotional core, making it a thought-provoking experience.\n",
      "Trailer Link: https://www.youtube.com/watch?v=tFMo3UJ4B4g\n",
      "\n",
      "Title: Gravity\n",
      "Reason: Gravity is a visually stunning film that delves into the themes of survival and resilience in space, akin to Interstellar. Directed by Alfonso Cuarón, it offers breathtaking visuals and a gripping storyline, focusing on a more personal survival story.\n",
      "Trailer Link: https://www.youtube.com/watch?v=OiTiKOy59o4\n",
      "\n"
     ]
    }
   ],
   "source": [
    "parsed_movies = parse_movie_output(output_content)\n",
    "\n",
    "for movie in parsed_movies:\n",
    "    print(f\"Title: {movie['title']}\")\n",
    "    print(f\"Reason: {movie['reason']}\")\n",
    "    print(f\"Trailer Link: {movie['trailer_link']}\")\n",
    "    print()  # Add a blank line between movies"
   ]
  },
  {
   "cell_type": "markdown",
   "id": "56a9265a-16b3-492f-bb95-1096b83e8909",
   "metadata": {},
   "source": [
    "## Last example"
   ]
  },
  {
   "cell_type": "code",
   "execution_count": 24,
   "id": "c2db3783-96ff-4c2e-9350-3c206491e490",
   "metadata": {
    "tags": []
   },
   "outputs": [],
   "source": [
    "genre = \"horror\"\n",
    "favorite_movie_in_genre = \"insidious\"\n",
    "age = \"new\"\n",
    "\n",
    "# run chain\n",
    "output = chain.invoke({'genre': genre, 'favorite_movie_in_genre': favorite_movie_in_genre, 'age': age})\n",
    "\n",
    "output_content = output.content"
   ]
  },
  {
   "cell_type": "code",
   "execution_count": 25,
   "id": "9c5e7f47-d91b-494b-99d9-c3ff497e92d9",
   "metadata": {
    "tags": []
   },
   "outputs": [
    {
     "name": "stdout",
     "output_type": "stream",
     "text": [
      "Title: The Conjuring\n",
      "Reason: Directed by James Wan, who also directed \"Insidious,\" \"The Conjuring\" offers a similarly intense and atmospheric horror experience, focusing on paranormal investigators tackling a dark presence in a family home.\n",
      "Trailer Link: https://www.youtube.com/watch?v=k10ETZ41q5o\n",
      "\n",
      "Title: Sinister\n",
      "Reason: \"Sinister\" features a storyline involving supernatural elements and a family in peril, much like \"Insidious.\" Its use of suspense and the psychological depth of its horror are particularly gripping.\n",
      "Trailer Link: https://www.youtube.com/watch?v=_kbQAJR9YWQ\n",
      "\n",
      "Title: Hereditary\n",
      "Reason: \"Hereditary\" offers a new twist on horror with its deeply unsettling atmosphere and focus on family tragedy and supernatural horror, pushing the boundaries of the genre much like \"Insidious.\"\n",
      "Trailer Link: https://www.youtube.com/watch?v=V6wWKNij_1M\n",
      "\n"
     ]
    }
   ],
   "source": [
    "parsed_movies = parse_movie_output(output_content)\n",
    "\n",
    "for movie in parsed_movies:\n",
    "    print(f\"Title: {movie['title']}\")\n",
    "    print(f\"Reason: {movie['reason']}\")\n",
    "    print(f\"Trailer Link: {movie['trailer_link']}\")\n",
    "    print()  # Add a blank line between movies"
   ]
  },
  {
   "cell_type": "code",
   "execution_count": null,
   "id": "037094b9-258f-4409-b812-f17b50143aa0",
   "metadata": {},
   "outputs": [],
   "source": []
  }
 ],
 "metadata": {
  "kernelspec": {
   "display_name": "Python 3 (ipykernel)",
   "language": "python",
   "name": "python3"
  },
  "language_info": {
   "codemirror_mode": {
    "name": "ipython",
    "version": 3
   },
   "file_extension": ".py",
   "mimetype": "text/x-python",
   "name": "python",
   "nbconvert_exporter": "python",
   "pygments_lexer": "ipython3",
   "version": "3.11.5"
  }
 },
 "nbformat": 4,
 "nbformat_minor": 5
}
